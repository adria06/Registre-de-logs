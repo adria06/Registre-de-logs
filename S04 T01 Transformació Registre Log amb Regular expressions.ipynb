{
 "cells": [
  {
   "cell_type": "markdown",
   "id": "de6afca4",
   "metadata": {},
   "source": [
    "# S04 T01: Transformació Registre Log amb Regular expressions"
   ]
  },
  {
   "cell_type": "markdown",
   "id": "402aea75",
   "metadata": {},
   "source": [
    "## Descripció\n",
    "L'anàlisi de registres és una funció important per al control i l'alerta, el compliment de les polítiques de seguretat, l'auditoria i el compliment normatiu, la resposta a incidents de seguretat i fins i tot les investigacions forenses. En analitzar les dades de registre, les empreses poden identificar més fàcilment les possibles amenaces i altres problemes, trobar la causa arrel i iniciar una resposta ràpida per mitigar els riscos."
   ]
  },
  {
   "cell_type": "markdown",
   "id": "77b98b54",
   "metadata": {},
   "source": [
    "## Nivell 1\n",
    "L'analista ha d'assegurar-se que els registres consisteixen en una gamma completa de missatges i s'interpreten segons el context. Els elements de registre han d'estandaritzar-se, utilitzant els mateixos termes o terminologia, per evitar confusions i proporcionar cohesió.\n",
    "\n",
    "Com Científic de Dades se t'ha proporcionat accés als registres-Logs on queda registrada l'activitat de totes les visites a realitzades a la pàgina web de l'agència de viatges \"akumenius.com\".\n",
    "\n",
    "## - Exercici 1\n",
    "Estandaritza, identifica i enumera cada un dels atributs / variables de l'estructura de l'arxiu \"Web_access_log-akumenius.com\" que trobaràs al repositori de GitHub \"Data-sources\"."
   ]
  },
  {
   "cell_type": "markdown",
   "id": "7dafaf23",
   "metadata": {},
   "source": [
    "Before we upload the data we need to have a look at the file to check who the data has been storaged.\n",
    "\n",
    "In this occasion it has the structure of an Apacha access log"
   ]
  },
  {
   "attachments": {
    "Capture.PNG": {
     "image/png": "[encoded data removed]"
    }
   },
   "cell_type": "markdown",
   "id": "cfc90544",
   "metadata": {},
   "source": [
    "![Capture.PNG](attachment:Capture.PNG)"
   ]
  },
  {
   "cell_type": "markdown",
   "id": "cbb8f866",
   "metadata": {},
   "source": [
    "**localhost or www.akumenius.com** - This is the HTTP referer, which represents the address from which the request for the resource originated. (host)\n",
    "\n",
    "**127.0.0.1 or 66.249.76.216** - IP address of the client that made the request (IP)\n",
    "\n",
    "[23/Feb/2014:03:10:31 +0100] - date and time of the request(Date & TimeZone)\n",
    "\n",
    "**\"GET /hoteles-baratos/ofertas-hotel-Club-&-Hotel-Letoonia--en-Fethiye-8460b-destinos.html HTTP/1.1\"** - request type and resource being requested (RequestVers)\n",
    "\n",
    "**200, 400** - HTTP response status code (status)\n",
    "\n",
    "**3100, 8811** - size of the object returned to the client (lenght)\n",
    "\n",
    "**\"Mozilla/5.0 (compatible; Googlebot/2.1; +http://www.google.com/bot.html)\"**- This is the User Agent, which identifies information about the browser that the client is using to access the resource.\n",
    "\n",
    "This gives the site that the client reports having been referred from. (This should be the page that links to or includes (referrer)"
   ]
  },
  {
   "cell_type": "code",
   "execution_count": 178,
   "id": "023ef17f",
   "metadata": {},
   "outputs": [],
   "source": [
    "import pandas as pd\n",
    "import numpy as np\n",
    "import matplotlib.pyplot as plt\n",
    "import seaborn as sns\n",
    "import re\n",
    "import datetime\n",
    "import requests"
   ]
  },
  {
   "cell_type": "markdown",
   "id": "de486d4f",
   "metadata": {},
   "source": [
    "We import the data using RegEx. We have investigate the best separation RegEx using www.regex101.com"
   ]
  },
  {
   "cell_type": "code",
   "execution_count": 179,
   "id": "0291efb4",
   "metadata": {},
   "outputs": [
    {
     "name": "stderr",
     "output_type": "stream",
     "text": [
      "C:\\ProgramData\\Anaconda3\\lib\\site-packages\\pandas\\util\\_decorators.py:311: ParserWarning: Falling back to the 'python' engine because the 'c' engine does not support regex separators (separators > 1 char and different from '\\s+' are interpreted as regex); you can avoid this warning by specifying engine='python'.\n",
      "  return func(*args, **kwargs)\n"
     ]
    }
   ],
   "source": [
    "df=pd.read_csv('Web_access_log-akumenius.com.txt', sep=(r'(?P<host>.*?) (?P<ip>.*?) (?P<remote_log_name>.*?) (?P<userid>.*?) \\[(?P<date>.*?)(?= ) (?P<timezone>.*?)\\] \\\"(?P<request_method>.*?) (?P<path>.*?)(?P<request_version> HTTP/.*)?\\\" (?P<status>.*?) (?P<length>.*?) \\\"(?P<referrer>.*?)\\\" \\\"(?P<user_agent>.*?)\\\"'), header=None);"
   ]
  },
  {
   "cell_type": "code",
   "execution_count": 180,
   "id": "143defdb",
   "metadata": {},
   "outputs": [
    {
     "data": {
      "text/plain": [
       "(261873, 15)"
      ]
     },
     "execution_count": 180,
     "metadata": {},
     "output_type": "execute_result"
    }
   ],
   "source": [
    "df.shape"
   ]
  },
  {
   "cell_type": "code",
   "execution_count": 181,
   "id": "d95cc9e3",
   "metadata": {},
   "outputs": [
    {
     "data": {
      "text/html": [
       "<div>\n",
       "<style scoped>\n",
       "    .dataframe tbody tr th:only-of-type {\n",
       "        vertical-align: middle;\n",
       "    }\n",
       "\n",
       "    .dataframe tbody tr th {\n",
       "        vertical-align: top;\n",
       "    }\n",
       "\n",
       "    .dataframe thead th {\n",
       "        text-align: right;\n",
       "    }\n",
       "</style>\n",
       "<table border=\"1\" class=\"dataframe\">\n",
       "  <thead>\n",
       "    <tr style=\"text-align: right;\">\n",
       "      <th></th>\n",
       "      <th>0</th>\n",
       "      <th>1</th>\n",
       "      <th>2</th>\n",
       "      <th>3</th>\n",
       "      <th>4</th>\n",
       "      <th>5</th>\n",
       "      <th>6</th>\n",
       "      <th>7</th>\n",
       "      <th>8</th>\n",
       "      <th>9</th>\n",
       "      <th>10</th>\n",
       "      <th>11</th>\n",
       "      <th>12</th>\n",
       "      <th>13</th>\n",
       "      <th>14</th>\n",
       "    </tr>\n",
       "  </thead>\n",
       "  <tbody>\n",
       "    <tr>\n",
       "      <th>0</th>\n",
       "      <td>NaN</td>\n",
       "      <td>localhost</td>\n",
       "      <td>127.0.0.1</td>\n",
       "      <td>-</td>\n",
       "      <td>-</td>\n",
       "      <td>23/Feb/2014:03:10:31</td>\n",
       "      <td>100.0</td>\n",
       "      <td>OPTIONS</td>\n",
       "      <td>*</td>\n",
       "      <td>HTTP/1.0</td>\n",
       "      <td>200.0</td>\n",
       "      <td>-</td>\n",
       "      <td>-</td>\n",
       "      <td>Apache (internal dummy connection)</td>\n",
       "      <td>VLOG=-</td>\n",
       "    </tr>\n",
       "    <tr>\n",
       "      <th>1</th>\n",
       "      <td>NaN</td>\n",
       "      <td>localhost</td>\n",
       "      <td>127.0.0.1</td>\n",
       "      <td>-</td>\n",
       "      <td>-</td>\n",
       "      <td>23/Feb/2014:03:10:31</td>\n",
       "      <td>100.0</td>\n",
       "      <td>OPTIONS</td>\n",
       "      <td>*</td>\n",
       "      <td>HTTP/1.0</td>\n",
       "      <td>200.0</td>\n",
       "      <td>-</td>\n",
       "      <td>-</td>\n",
       "      <td>Apache (internal dummy connection)</td>\n",
       "      <td>VLOG=-</td>\n",
       "    </tr>\n",
       "    <tr>\n",
       "      <th>2</th>\n",
       "      <td>NaN</td>\n",
       "      <td>localhost</td>\n",
       "      <td>127.0.0.1</td>\n",
       "      <td>-</td>\n",
       "      <td>-</td>\n",
       "      <td>23/Feb/2014:03:10:31</td>\n",
       "      <td>100.0</td>\n",
       "      <td>OPTIONS</td>\n",
       "      <td>*</td>\n",
       "      <td>HTTP/1.0</td>\n",
       "      <td>200.0</td>\n",
       "      <td>-</td>\n",
       "      <td>-</td>\n",
       "      <td>Apache (internal dummy connection)</td>\n",
       "      <td>VLOG=-</td>\n",
       "    </tr>\n",
       "    <tr>\n",
       "      <th>3</th>\n",
       "      <td>NaN</td>\n",
       "      <td>localhost</td>\n",
       "      <td>127.0.0.1</td>\n",
       "      <td>-</td>\n",
       "      <td>-</td>\n",
       "      <td>23/Feb/2014:03:10:31</td>\n",
       "      <td>100.0</td>\n",
       "      <td>OPTIONS</td>\n",
       "      <td>*</td>\n",
       "      <td>HTTP/1.0</td>\n",
       "      <td>200.0</td>\n",
       "      <td>-</td>\n",
       "      <td>-</td>\n",
       "      <td>Apache (internal dummy connection)</td>\n",
       "      <td>VLOG=-</td>\n",
       "    </tr>\n",
       "    <tr>\n",
       "      <th>4</th>\n",
       "      <td>NaN</td>\n",
       "      <td>localhost</td>\n",
       "      <td>127.0.0.1</td>\n",
       "      <td>-</td>\n",
       "      <td>-</td>\n",
       "      <td>23/Feb/2014:03:10:31</td>\n",
       "      <td>100.0</td>\n",
       "      <td>OPTIONS</td>\n",
       "      <td>*</td>\n",
       "      <td>HTTP/1.0</td>\n",
       "      <td>200.0</td>\n",
       "      <td>-</td>\n",
       "      <td>-</td>\n",
       "      <td>Apache (internal dummy connection)</td>\n",
       "      <td>VLOG=-</td>\n",
       "    </tr>\n",
       "  </tbody>\n",
       "</table>\n",
       "</div>"
      ],
      "text/plain": [
       "    0          1          2  3  4                     5      6        7  8   \\\n",
       "0  NaN  localhost  127.0.0.1  -  -  23/Feb/2014:03:10:31  100.0  OPTIONS  *   \n",
       "1  NaN  localhost  127.0.0.1  -  -  23/Feb/2014:03:10:31  100.0  OPTIONS  *   \n",
       "2  NaN  localhost  127.0.0.1  -  -  23/Feb/2014:03:10:31  100.0  OPTIONS  *   \n",
       "3  NaN  localhost  127.0.0.1  -  -  23/Feb/2014:03:10:31  100.0  OPTIONS  *   \n",
       "4  NaN  localhost  127.0.0.1  -  -  23/Feb/2014:03:10:31  100.0  OPTIONS  *   \n",
       "\n",
       "          9      10 11 12                                  13       14  \n",
       "0   HTTP/1.0  200.0  -  -  Apache (internal dummy connection)   VLOG=-  \n",
       "1   HTTP/1.0  200.0  -  -  Apache (internal dummy connection)   VLOG=-  \n",
       "2   HTTP/1.0  200.0  -  -  Apache (internal dummy connection)   VLOG=-  \n",
       "3   HTTP/1.0  200.0  -  -  Apache (internal dummy connection)   VLOG=-  \n",
       "4   HTTP/1.0  200.0  -  -  Apache (internal dummy connection)   VLOG=-  "
      ]
     },
     "execution_count": 181,
     "metadata": {},
     "output_type": "execute_result"
    }
   ],
   "source": [
    "df.head()"
   ]
  },
  {
   "cell_type": "code",
   "execution_count": 182,
   "id": "9d38405b",
   "metadata": {},
   "outputs": [],
   "source": [
    "# Rename the usefull columns.\n",
    "df.rename(columns={1: 'host', 2: 'IP', 4: 'userID', 5: 'Date', 6: 'TimeZone', 7: 'RequestMethod', 8:'path', 9: 'RequestVers',\n",
    "                  10: 'status', 11: 'lenght', 12: 'referrer', 13: 'UserAgent'}, inplace=True)"
   ]
  },
  {
   "cell_type": "markdown",
   "id": "e7cd4d38",
   "metadata": {},
   "source": [
    "## - Exercici 2\n",
    "Neteja, preprocesa, estructura i transforma (dataframe) les dades del registre d'Accés a la web."
   ]
  },
  {
   "cell_type": "markdown",
   "id": "00e84f68",
   "metadata": {},
   "source": [
    "I investigate the information of each column to clean up the data\n",
    "\n",
    "Column 0"
   ]
  },
  {
   "cell_type": "code",
   "execution_count": 183,
   "id": "e876cba8",
   "metadata": {},
   "outputs": [
    {
     "data": {
      "text/plain": [
       "261831"
      ]
     },
     "execution_count": 183,
     "metadata": {},
     "output_type": "execute_result"
    }
   ],
   "source": [
    "df[0].isnull().sum()"
   ]
  },
  {
   "cell_type": "markdown",
   "id": "a7aec358",
   "metadata": {},
   "source": [
    "We note that from the 261873 rows, there are 42 which are not null. Let´s check the values"
   ]
  },
  {
   "cell_type": "code",
   "execution_count": 184,
   "id": "ac04dc21",
   "metadata": {},
   "outputs": [
    {
     "data": {
      "text/plain": [
       "array([nan,\n",
       "       'localhost 220.181.108.108 - - [23/Feb/2014:14:14:41 +0100] \"-\" 408 - \"-\" \"-\" VLOG=-',\n",
       "       'localhost 69.61.47.114 - - [23/Feb/2014:16:42:58 +0100] \"-\" 408 - \"-\" \"-\" VLOG=-',\n",
       "       'localhost 220.181.108.79 - - [23/Feb/2014:19:21:43 +0100] \"-\" 408 - \"-\" \"-\" VLOG=-',\n",
       "       'localhost 188.87.251.64 - - [24/Feb/2014:08:48:59 +0100] \"-\" 408 - \"-\" \"-\" VLOG=-',\n",
       "       'localhost 180.76.5.214 - - [24/Feb/2014:10:23:25 +0100] \"-\" 408 - \"-\" \"-\" VLOG=-',\n",
       "       'localhost 62.175.136.122 - - [24/Feb/2014:13:08:00 +0100] \"-\" 408 - \"-\" \"-\" VLOG=-',\n",
       "       'localhost 62.175.136.122 - - [24/Feb/2014:13:08:01 +0100] \"-\" 408 - \"-\" \"-\" VLOG=-',\n",
       "       'localhost 62.175.136.122 - - [24/Feb/2014:13:08:02 +0100] \"-\" 408 - \"-\" \"-\" VLOG=-',\n",
       "       'localhost 87.111.221.104 - - [24/Feb/2014:13:28:49 +0100] \"-\" 408 - \"-\" \"-\" VLOG=-',\n",
       "       'localhost 87.111.221.104 - - [24/Feb/2014:13:30:51 +0100] \"-\" 408 - \"-\" \"-\" VLOG=-',\n",
       "       'localhost 87.111.221.104 - - [24/Feb/2014:13:30:55 +0100] \"-\" 408 - \"-\" \"-\" VLOG=-',\n",
       "       'localhost 87.111.221.104 - - [24/Feb/2014:13:30:56 +0100] \"-\" 408 - \"-\" \"-\" VLOG=-',\n",
       "       'localhost 87.111.221.104 - - [24/Feb/2014:13:32:27 +0100] \"-\" 408 - \"-\" \"-\" VLOG=-',\n",
       "       'localhost 69.61.47.114 - - [25/Feb/2014:08:51:34 +0100] \"-\" 408 - \"-\" \"-\" VLOG=-',\n",
       "       'localhost 68.43.159.123 - - [25/Feb/2014:17:07:52 +0100] \"\\\\x80w\\\\x01\\\\x03\\\\x01\" 400 285 \"-\" \"-\" VLOG=-',\n",
       "       'localhost 81.61.2.96 - - [25/Feb/2014:17:16:24 +0100] \"-\" 408 - \"-\" \"-\" VLOG=-',\n",
       "       'localhost 81.61.2.96 - - [25/Feb/2014:17:18:05 +0100] \"-\" 408 - \"-\" \"-\" VLOG=-',\n",
       "       'localhost 41.98.4.88 - - [25/Feb/2014:20:20:34 +0100] \"-\" 408 - \"-\" \"-\" VLOG=-',\n",
       "       'localhost 123.125.71.17 - - [26/Feb/2014:04:09:41 +0100] \"-\" 408 - \"-\" \"-\" VLOG=-',\n",
       "       'localhost 92.58.211.126 - - [26/Feb/2014:18:04:35 +0100] \"-\" 408 - \"-\" \"-\" VLOG=-',\n",
       "       'localhost 92.58.211.126 - - [26/Feb/2014:18:04:36 +0100] \"-\" 408 - \"-\" \"-\" VLOG=-',\n",
       "       'localhost 194.208.79.18 - - [27/Feb/2014:13:50:37 +0100] \"\\\\x80w\\\\x01\\\\x03\\\\x01\" 400 285 \"-\" \"-\" VLOG=-',\n",
       "       'localhost 77.228.170.201 - - [27/Feb/2014:15:16:37 +0100] \"-\" 408 - \"-\" \"-\" VLOG=-',\n",
       "       'localhost 186.10.21.10 - - [27/Feb/2014:16:56:02 +0100] \"-\" 408 - \"-\" \"-\" VLOG=-',\n",
       "       'localhost 123.125.71.33 - - [27/Feb/2014:21:52:23 +0100] \"-\" 408 - \"-\" \"-\" VLOG=-',\n",
       "       'localhost 85.57.252.60 - - [27/Feb/2014:23:26:48 +0100] \"-\" 408 - \"-\" \"-\" VLOG=-',\n",
       "       'localhost 85.57.252.60 - - [27/Feb/2014:23:26:49 +0100] \"-\" 408 - \"-\" \"-\" VLOG=-',\n",
       "       'localhost 85.57.252.60 - - [27/Feb/2014:23:26:54 +0100] \"-\" 408 - \"-\" \"-\" VLOG=-',\n",
       "       'localhost 85.57.252.60 - - [27/Feb/2014:23:26:55 +0100] \"-\" 408 - \"-\" \"-\" VLOG=-',\n",
       "       'localhost 70.166.82.85 - - [01/Mar/2014:10:10:39 +0100] \"\\\\x80w\\\\x01\\\\x03\\\\x01\" 400 285 \"-\" \"-\" VLOG=-',\n",
       "       'localhost 68.200.46.208 - - [01/Mar/2014:18:52:46 +0100] \"\\\\x80w\\\\x01\\\\x03\\\\x01\" 400 285 \"-\" \"-\" VLOG=-',\n",
       "       'localhost 72.45.160.188 - - [01/Mar/2014:18:57:02 +0100] \"\\\\x80w\\\\x01\\\\x03\\\\x01\" 400 285 \"-\" \"-\" VLOG=-'],\n",
       "      dtype=object)"
      ]
     },
     "execution_count": 184,
     "metadata": {},
     "output_type": "execute_result"
    }
   ],
   "source": [
    "df[0].unique()"
   ]
  },
  {
   "cell_type": "markdown",
   "id": "849d6017",
   "metadata": {},
   "source": [
    "We notice that the not null have an HTTP code 408 (Request Timeout) or 400 (Bad Request), which are errors and will not have any usefull information, therefore we proceed to delete the rows and the empty column 0"
   ]
  },
  {
   "cell_type": "code",
   "execution_count": 185,
   "id": "de8bbec9",
   "metadata": {},
   "outputs": [
    {
     "data": {
      "text/plain": [
       "42"
      ]
     },
     "execution_count": 185,
     "metadata": {},
     "output_type": "execute_result"
    }
   ],
   "source": [
    "df['status'].isnull().sum() #As all the info remain in column 0, the status column is null on the same 42 rows"
   ]
  },
  {
   "cell_type": "code",
   "execution_count": 186,
   "id": "a21748f8",
   "metadata": {},
   "outputs": [],
   "source": [
    "df = df[df.status.notnull()] #remove rows with NO nulls on status column"
   ]
  },
  {
   "cell_type": "code",
   "execution_count": 187,
   "id": "167e20eb",
   "metadata": {},
   "outputs": [
    {
     "data": {
      "text/plain": [
       "(261831, 15)"
      ]
     },
     "execution_count": 187,
     "metadata": {},
     "output_type": "execute_result"
    }
   ],
   "source": [
    "df.shape"
   ]
  },
  {
   "cell_type": "code",
   "execution_count": 188,
   "id": "7653f6bb",
   "metadata": {},
   "outputs": [
    {
     "data": {
      "text/plain": [
       "array([nan], dtype=object)"
      ]
     },
     "execution_count": 188,
     "metadata": {},
     "output_type": "execute_result"
    }
   ],
   "source": [
    "df[0].unique() # Column 0 can be removed as it only contain null"
   ]
  },
  {
   "cell_type": "code",
   "execution_count": 189,
   "id": "7accfcf1",
   "metadata": {},
   "outputs": [
    {
     "data": {
      "text/plain": [
       "array(['-'], dtype=object)"
      ]
     },
     "execution_count": 189,
     "metadata": {},
     "output_type": "execute_result"
    }
   ],
   "source": [
    "df[3].unique() # Column 3 can be removed as it only contain \"-\""
   ]
  },
  {
   "cell_type": "code",
   "execution_count": 190,
   "id": "1b4e4382",
   "metadata": {},
   "outputs": [
    {
     "data": {
      "text/plain": [
       "array([' VLOG=-'], dtype=object)"
      ]
     },
     "execution_count": 190,
     "metadata": {},
     "output_type": "execute_result"
    }
   ],
   "source": [
    "df[14].unique()# Column 14 can be removed as it only contain \" VLOG=-\""
   ]
  },
  {
   "cell_type": "markdown",
   "id": "6bc982b1",
   "metadata": {},
   "source": [
    "We convert to Data / Time the columns imported"
   ]
  },
  {
   "cell_type": "code",
   "execution_count": 191,
   "id": "6b8bc330",
   "metadata": {},
   "outputs": [],
   "source": [
    "df['Date']=pd.to_datetime(df['Date'], format='%d/%b/%Y:%H:%M:%S') #We convert the Data column from being an object to a date"
   ]
  },
  {
   "cell_type": "code",
   "execution_count": 192,
   "id": "7cd8a978",
   "metadata": {},
   "outputs": [
    {
     "data": {
      "text/plain": [
       "Timestamp('2014-02-23 03:10:31')"
      ]
     },
     "execution_count": 192,
     "metadata": {},
     "output_type": "execute_result"
    }
   ],
   "source": [
    "df.Date[1] #To check that the conversion has done correctly"
   ]
  },
  {
   "cell_type": "code",
   "execution_count": 193,
   "id": "e60fee49",
   "metadata": {},
   "outputs": [
    {
     "data": {
      "text/plain": [
       "array([100.])"
      ]
     },
     "execution_count": 193,
     "metadata": {},
     "output_type": "execute_result"
    }
   ],
   "source": [
    "df['TimeZone'].unique() # Date and Time always in the same zone, therefore this column do not add any value and can be removed"
   ]
  },
  {
   "cell_type": "code",
   "execution_count": 194,
   "id": "de65345c",
   "metadata": {},
   "outputs": [],
   "source": [
    "#We remove the columns mentioned above\n",
    "df = df.drop([0, 3, 14, 'TimeZone'], axis=1)"
   ]
  },
  {
   "cell_type": "code",
   "execution_count": 195,
   "id": "b0a3910b",
   "metadata": {},
   "outputs": [
    {
     "data": {
      "text/plain": [
       "array(['-', 'clarcat'], dtype=object)"
      ]
     },
     "execution_count": 195,
     "metadata": {},
     "output_type": "execute_result"
    }
   ],
   "source": [
    "df['userID'].unique() "
   ]
  },
  {
   "cell_type": "code",
   "execution_count": 196,
   "id": "48fab62d",
   "metadata": {},
   "outputs": [
    {
     "data": {
      "text/plain": [
       "count     261831\n",
       "unique         2\n",
       "top            -\n",
       "freq      261804\n",
       "Name: userID, dtype: object"
      ]
     },
     "execution_count": 196,
     "metadata": {},
     "output_type": "execute_result"
    }
   ],
   "source": [
    "df['userID'].describe()"
   ]
  },
  {
   "cell_type": "markdown",
   "id": "0fb184eb",
   "metadata": {},
   "source": [
    "Column 'userID' initially seem to have a single value of '-' but it also contain a userID 'clarcat' that only appear in 27 of the 261831 logs."
   ]
  },
  {
   "cell_type": "code",
   "execution_count": 197,
   "id": "60013e12",
   "metadata": {},
   "outputs": [
    {
     "data": {
      "text/plain": [
       "array(['-',\n",
       "       'http://www.akumenius.com/hoteles-baratos/ofertas-hotel-Playa-Blanca-All-Inclusive-en-Cayo%20Largo_CUBA-62359b.html',\n",
       "       'http://www.akumenius.com/', ...,\n",
       "       'http://www.akumenius.com/booking/152186/t/BARCELO%20DOMINICAN%20BEACH/4',\n",
       "       'http://www.akumenius.com/hotelDetailPopup/49612/b',\n",
       "       'http://www.akumenius.com/destinos-baratos/destinos-caracteristicas/hoteles-baratos-en-Phuket_TAILANDIA-con-Windsurf'],\n",
       "      dtype=object)"
      ]
     },
     "execution_count": 197,
     "metadata": {},
     "output_type": "execute_result"
    }
   ],
   "source": [
    "df['referrer'].unique()"
   ]
  },
  {
   "cell_type": "code",
   "execution_count": 198,
   "id": "829be73a",
   "metadata": {},
   "outputs": [
    {
     "data": {
      "text/plain": [
       "count     261831\n",
       "unique      2507\n",
       "top            -\n",
       "freq       99505\n",
       "Name: referrer, dtype: object"
      ]
     },
     "execution_count": 198,
     "metadata": {},
     "output_type": "execute_result"
    }
   ],
   "source": [
    "df['referrer'].describe()"
   ]
  },
  {
   "cell_type": "code",
   "execution_count": 199,
   "id": "55ca2023",
   "metadata": {},
   "outputs": [
    {
     "data": {
      "text/html": [
       "<div>\n",
       "<style scoped>\n",
       "    .dataframe tbody tr th:only-of-type {\n",
       "        vertical-align: middle;\n",
       "    }\n",
       "\n",
       "    .dataframe tbody tr th {\n",
       "        vertical-align: top;\n",
       "    }\n",
       "\n",
       "    .dataframe thead th {\n",
       "        text-align: right;\n",
       "    }\n",
       "</style>\n",
       "<table border=\"1\" class=\"dataframe\">\n",
       "  <thead>\n",
       "    <tr style=\"text-align: right;\">\n",
       "      <th></th>\n",
       "      <th>host</th>\n",
       "      <th>IP</th>\n",
       "      <th>userID</th>\n",
       "      <th>Date</th>\n",
       "      <th>RequestMethod</th>\n",
       "      <th>path</th>\n",
       "      <th>RequestVers</th>\n",
       "      <th>status</th>\n",
       "      <th>lenght</th>\n",
       "      <th>referrer</th>\n",
       "      <th>UserAgent</th>\n",
       "    </tr>\n",
       "  </thead>\n",
       "  <tbody>\n",
       "    <tr>\n",
       "      <th>357</th>\n",
       "      <td>www.akumenius.com</td>\n",
       "      <td>199.30.20.223</td>\n",
       "      <td>-</td>\n",
       "      <td>2014-02-23 03:18:51</td>\n",
       "      <td>GET</td>\n",
       "      <td>/includes/css/style.css</td>\n",
       "      <td>HTTP/1.1</td>\n",
       "      <td>200.0</td>\n",
       "      <td>3637</td>\n",
       "      <td>http://www.akumenius.com/hoteles-baratos/ofert...</td>\n",
       "      <td>Mozilla/5.0 (Windows NT 6.1; WOW64) AppleWebKi...</td>\n",
       "    </tr>\n",
       "    <tr>\n",
       "      <th>358</th>\n",
       "      <td>www.akumenius.com</td>\n",
       "      <td>199.30.20.223</td>\n",
       "      <td>-</td>\n",
       "      <td>2014-02-23 03:18:51</td>\n",
       "      <td>GET</td>\n",
       "      <td>/modules/raton/views/themes/bcoos/css/buttons_...</td>\n",
       "      <td>HTTP/1.1</td>\n",
       "      <td>200.0</td>\n",
       "      <td>48</td>\n",
       "      <td>http://www.akumenius.com/hoteles-baratos/ofert...</td>\n",
       "      <td>Mozilla/5.0 (Windows NT 6.1; WOW64) AppleWebKi...</td>\n",
       "    </tr>\n",
       "    <tr>\n",
       "      <th>359</th>\n",
       "      <td>www.akumenius.com</td>\n",
       "      <td>199.30.20.223</td>\n",
       "      <td>-</td>\n",
       "      <td>2014-02-23 03:18:51</td>\n",
       "      <td>GET</td>\n",
       "      <td>/modules/raton/views/themes/bcoos/css/2column_...</td>\n",
       "      <td>HTTP/1.1</td>\n",
       "      <td>200.0</td>\n",
       "      <td>15439</td>\n",
       "      <td>http://www.akumenius.com/hoteles-baratos/ofert...</td>\n",
       "      <td>Mozilla/5.0 (Windows NT 6.1; WOW64) AppleWebKi...</td>\n",
       "    </tr>\n",
       "    <tr>\n",
       "      <th>361</th>\n",
       "      <td>www.akumenius.com</td>\n",
       "      <td>199.30.20.223</td>\n",
       "      <td>-</td>\n",
       "      <td>2014-02-23 03:18:51</td>\n",
       "      <td>GET</td>\n",
       "      <td>/modules/raton/views/themes/bcoos/css/raton.css</td>\n",
       "      <td>HTTP/1.1</td>\n",
       "      <td>200.0</td>\n",
       "      <td>17458</td>\n",
       "      <td>http://www.akumenius.com/hoteles-baratos/ofert...</td>\n",
       "      <td>Mozilla/5.0 (Windows NT 6.1; WOW64) AppleWebKi...</td>\n",
       "    </tr>\n",
       "    <tr>\n",
       "      <th>362</th>\n",
       "      <td>www.akumenius.com</td>\n",
       "      <td>199.30.20.223</td>\n",
       "      <td>-</td>\n",
       "      <td>2014-02-23 03:18:51</td>\n",
       "      <td>GET</td>\n",
       "      <td>/libraries/jqueryui/css/ui-lightness/jquery-ui...</td>\n",
       "      <td>HTTP/1.1</td>\n",
       "      <td>200.0</td>\n",
       "      <td>33530</td>\n",
       "      <td>http://www.akumenius.com/hoteles-baratos/ofert...</td>\n",
       "      <td>Mozilla/5.0 (Windows NT 6.1; WOW64) AppleWebKi...</td>\n",
       "    </tr>\n",
       "  </tbody>\n",
       "</table>\n",
       "</div>"
      ],
      "text/plain": [
       "                  host             IP userID                Date  \\\n",
       "357  www.akumenius.com  199.30.20.223      - 2014-02-23 03:18:51   \n",
       "358  www.akumenius.com  199.30.20.223      - 2014-02-23 03:18:51   \n",
       "359  www.akumenius.com  199.30.20.223      - 2014-02-23 03:18:51   \n",
       "361  www.akumenius.com  199.30.20.223      - 2014-02-23 03:18:51   \n",
       "362  www.akumenius.com  199.30.20.223      - 2014-02-23 03:18:51   \n",
       "\n",
       "    RequestMethod                                               path  \\\n",
       "357           GET                            /includes/css/style.css   \n",
       "358           GET  /modules/raton/views/themes/bcoos/css/buttons_...   \n",
       "359           GET  /modules/raton/views/themes/bcoos/css/2column_...   \n",
       "361           GET    /modules/raton/views/themes/bcoos/css/raton.css   \n",
       "362           GET  /libraries/jqueryui/css/ui-lightness/jquery-ui...   \n",
       "\n",
       "    RequestVers  status lenght  \\\n",
       "357    HTTP/1.1   200.0   3637   \n",
       "358    HTTP/1.1   200.0     48   \n",
       "359    HTTP/1.1   200.0  15439   \n",
       "361    HTTP/1.1   200.0  17458   \n",
       "362    HTTP/1.1   200.0  33530   \n",
       "\n",
       "                                              referrer  \\\n",
       "357  http://www.akumenius.com/hoteles-baratos/ofert...   \n",
       "358  http://www.akumenius.com/hoteles-baratos/ofert...   \n",
       "359  http://www.akumenius.com/hoteles-baratos/ofert...   \n",
       "361  http://www.akumenius.com/hoteles-baratos/ofert...   \n",
       "362  http://www.akumenius.com/hoteles-baratos/ofert...   \n",
       "\n",
       "                                             UserAgent  \n",
       "357  Mozilla/5.0 (Windows NT 6.1; WOW64) AppleWebKi...  \n",
       "358  Mozilla/5.0 (Windows NT 6.1; WOW64) AppleWebKi...  \n",
       "359  Mozilla/5.0 (Windows NT 6.1; WOW64) AppleWebKi...  \n",
       "361  Mozilla/5.0 (Windows NT 6.1; WOW64) AppleWebKi...  \n",
       "362  Mozilla/5.0 (Windows NT 6.1; WOW64) AppleWebKi...  "
      ]
     },
     "execution_count": 199,
     "metadata": {},
     "output_type": "execute_result"
    }
   ],
   "source": [
    "df[df['referrer'] != '-'].head()"
   ]
  },
  {
   "cell_type": "markdown",
   "id": "0d520e98",
   "metadata": {},
   "source": [
    "## - Exercici 3\n",
    "Geolocalitza les IP's."
   ]
  },
  {
   "cell_type": "code",
   "execution_count": 200,
   "id": "38773f23",
   "metadata": {},
   "outputs": [
    {
     "data": {
      "text/plain": [
       "count            261831\n",
       "unique             2920\n",
       "top       66.249.76.216\n",
       "freq              46382\n",
       "Name: IP, dtype: object"
      ]
     },
     "execution_count": 200,
     "metadata": {},
     "output_type": "execute_result"
    }
   ],
   "source": [
    "df['IP'].describe() # We check the number if unique IPs to check which free IP tools can be used"
   ]
  },
  {
   "cell_type": "markdown",
   "id": "6d651695",
   "metadata": {},
   "source": [
    "We group the unique IPs in a new dataframe"
   ]
  },
  {
   "cell_type": "code",
   "execution_count": 201,
   "id": "578506a2",
   "metadata": {},
   "outputs": [],
   "source": [
    "df2 = df.groupby('IP')\n",
    "df3 = pd.DataFrame(df2)\n",
    "df3 = df3.rename(columns={0: 'IP', 1: 'Host'})"
   ]
  },
  {
   "cell_type": "code",
   "execution_count": 202,
   "id": "7972c63e",
   "metadata": {},
   "outputs": [
    {
     "data": {
      "text/html": [
       "<div>\n",
       "<style scoped>\n",
       "    .dataframe tbody tr th:only-of-type {\n",
       "        vertical-align: middle;\n",
       "    }\n",
       "\n",
       "    .dataframe tbody tr th {\n",
       "        vertical-align: top;\n",
       "    }\n",
       "\n",
       "    .dataframe thead th {\n",
       "        text-align: right;\n",
       "    }\n",
       "</style>\n",
       "<table border=\"1\" class=\"dataframe\">\n",
       "  <thead>\n",
       "    <tr style=\"text-align: right;\">\n",
       "      <th></th>\n",
       "      <th>IP</th>\n",
       "      <th>Host</th>\n",
       "    </tr>\n",
       "  </thead>\n",
       "  <tbody>\n",
       "    <tr>\n",
       "      <th>0</th>\n",
       "      <td>101.199.108.59</td>\n",
       "      <td>host              IP user...</td>\n",
       "    </tr>\n",
       "    <tr>\n",
       "      <th>1</th>\n",
       "      <td>101.226.167.226</td>\n",
       "      <td>host               IP use...</td>\n",
       "    </tr>\n",
       "    <tr>\n",
       "      <th>2</th>\n",
       "      <td>107.178.37.48</td>\n",
       "      <td>host             IP userI...</td>\n",
       "    </tr>\n",
       "    <tr>\n",
       "      <th>3</th>\n",
       "      <td>107.178.38.221</td>\n",
       "      <td>host              IP user...</td>\n",
       "    </tr>\n",
       "    <tr>\n",
       "      <th>4</th>\n",
       "      <td>107.21.14.116</td>\n",
       "      <td>host             IP userI...</td>\n",
       "    </tr>\n",
       "  </tbody>\n",
       "</table>\n",
       "</div>"
      ],
      "text/plain": [
       "                IP                                               Host\n",
       "0   101.199.108.59                       host              IP user...\n",
       "1  101.226.167.226                       host               IP use...\n",
       "2    107.178.37.48                       host             IP userI...\n",
       "3   107.178.38.221                       host              IP user...\n",
       "4    107.21.14.116                       host             IP userI..."
      ]
     },
     "execution_count": 202,
     "metadata": {},
     "output_type": "execute_result"
    }
   ],
   "source": [
    "df3.head()"
   ]
  },
  {
   "cell_type": "markdown",
   "id": "3910ac62",
   "metadata": {},
   "source": [
    "We used ipinfo to search for the IP locations"
   ]
  },
  {
   "cell_type": "code",
   "execution_count": 203,
   "id": "b0f1eafe",
   "metadata": {},
   "outputs": [],
   "source": [
    "import ipinfo\n",
    "access_token = 'b0dc8241cd52e7'\n",
    "handler = ipinfo.getHandler(access_token)"
   ]
  },
  {
   "cell_type": "code",
   "execution_count": 204,
   "id": "5cd3c028",
   "metadata": {},
   "outputs": [],
   "source": [
    "# Information about the IP address is saved in a new dataframe df_IP\n",
    "df_IP = pd.DataFrame() \n",
    "for index, IP in enumerate(df3.IP):\n",
    "    details = handler.getDetails(IP)\n",
    "    df_IP = df_IP.append(details.all, ignore_index=True)"
   ]
  },
  {
   "cell_type": "code",
   "execution_count": 205,
   "id": "ed143aaf",
   "metadata": {},
   "outputs": [
    {
     "data": {
      "text/html": [
       "<div>\n",
       "<style scoped>\n",
       "    .dataframe tbody tr th:only-of-type {\n",
       "        vertical-align: middle;\n",
       "    }\n",
       "\n",
       "    .dataframe tbody tr th {\n",
       "        vertical-align: top;\n",
       "    }\n",
       "\n",
       "    .dataframe thead th {\n",
       "        text-align: right;\n",
       "    }\n",
       "</style>\n",
       "<table border=\"1\" class=\"dataframe\">\n",
       "  <thead>\n",
       "    <tr style=\"text-align: right;\">\n",
       "      <th></th>\n",
       "      <th>ip</th>\n",
       "      <th>city</th>\n",
       "      <th>region</th>\n",
       "      <th>country</th>\n",
       "      <th>loc</th>\n",
       "      <th>timezone</th>\n",
       "      <th>country_name</th>\n",
       "      <th>latitude</th>\n",
       "      <th>longitude</th>\n",
       "      <th>org</th>\n",
       "      <th>hostname</th>\n",
       "      <th>postal</th>\n",
       "      <th>bogon</th>\n",
       "      <th>anycast</th>\n",
       "    </tr>\n",
       "  </thead>\n",
       "  <tbody>\n",
       "    <tr>\n",
       "      <th>0</th>\n",
       "      <td>101.199.108.59</td>\n",
       "      <td>Beijing</td>\n",
       "      <td>Beijing</td>\n",
       "      <td>CN</td>\n",
       "      <td>39.9075,116.3972</td>\n",
       "      <td>Asia/Shanghai</td>\n",
       "      <td>China</td>\n",
       "      <td>39.9075</td>\n",
       "      <td>116.3972</td>\n",
       "      <td>NaN</td>\n",
       "      <td>NaN</td>\n",
       "      <td>NaN</td>\n",
       "      <td>NaN</td>\n",
       "      <td>NaN</td>\n",
       "    </tr>\n",
       "    <tr>\n",
       "      <th>1</th>\n",
       "      <td>101.226.167.226</td>\n",
       "      <td>Shanghai</td>\n",
       "      <td>Shanghai</td>\n",
       "      <td>CN</td>\n",
       "      <td>31.2222,121.4581</td>\n",
       "      <td>Asia/Shanghai</td>\n",
       "      <td>China</td>\n",
       "      <td>31.2222</td>\n",
       "      <td>121.4581</td>\n",
       "      <td>AS4812 China Telecom (Group)</td>\n",
       "      <td>NaN</td>\n",
       "      <td>NaN</td>\n",
       "      <td>NaN</td>\n",
       "      <td>NaN</td>\n",
       "    </tr>\n",
       "    <tr>\n",
       "      <th>2</th>\n",
       "      <td>107.178.37.48</td>\n",
       "      <td>San Jose</td>\n",
       "      <td>California</td>\n",
       "      <td>US</td>\n",
       "      <td>37.3394,-121.8950</td>\n",
       "      <td>America/Los_Angeles</td>\n",
       "      <td>United States</td>\n",
       "      <td>37.3394</td>\n",
       "      <td>-121.8950</td>\n",
       "      <td>AS174 Cogent Communications</td>\n",
       "      <td>107-178-37-48.ip.cloudmosa.com</td>\n",
       "      <td>95103</td>\n",
       "      <td>NaN</td>\n",
       "      <td>NaN</td>\n",
       "    </tr>\n",
       "    <tr>\n",
       "      <th>3</th>\n",
       "      <td>107.178.38.221</td>\n",
       "      <td>San Jose</td>\n",
       "      <td>California</td>\n",
       "      <td>US</td>\n",
       "      <td>37.3394,-121.8950</td>\n",
       "      <td>America/Los_Angeles</td>\n",
       "      <td>United States</td>\n",
       "      <td>37.3394</td>\n",
       "      <td>-121.8950</td>\n",
       "      <td>AS174 Cogent Communications</td>\n",
       "      <td>107-178-38-221.ip.cloudmosa.com</td>\n",
       "      <td>95103</td>\n",
       "      <td>NaN</td>\n",
       "      <td>NaN</td>\n",
       "    </tr>\n",
       "    <tr>\n",
       "      <th>4</th>\n",
       "      <td>107.21.14.116</td>\n",
       "      <td>Ashburn</td>\n",
       "      <td>Virginia</td>\n",
       "      <td>US</td>\n",
       "      <td>39.0437,-77.4875</td>\n",
       "      <td>America/New_York</td>\n",
       "      <td>United States</td>\n",
       "      <td>39.0437</td>\n",
       "      <td>-77.4875</td>\n",
       "      <td>AS14618 Amazon.com, Inc.</td>\n",
       "      <td>ec2-107-21-14-116.compute-1.amazonaws.com</td>\n",
       "      <td>20147</td>\n",
       "      <td>NaN</td>\n",
       "      <td>NaN</td>\n",
       "    </tr>\n",
       "    <tr>\n",
       "      <th>...</th>\n",
       "      <td>...</td>\n",
       "      <td>...</td>\n",
       "      <td>...</td>\n",
       "      <td>...</td>\n",
       "      <td>...</td>\n",
       "      <td>...</td>\n",
       "      <td>...</td>\n",
       "      <td>...</td>\n",
       "      <td>...</td>\n",
       "      <td>...</td>\n",
       "      <td>...</td>\n",
       "      <td>...</td>\n",
       "      <td>...</td>\n",
       "      <td>...</td>\n",
       "    </tr>\n",
       "    <tr>\n",
       "      <th>2915</th>\n",
       "      <td>95.63.234.126</td>\n",
       "      <td>Madrid</td>\n",
       "      <td>Madrid</td>\n",
       "      <td>ES</td>\n",
       "      <td>40.4165,-3.7026</td>\n",
       "      <td>Europe/Madrid</td>\n",
       "      <td>Spain</td>\n",
       "      <td>40.4165</td>\n",
       "      <td>-3.7026</td>\n",
       "      <td>AS12430 VODAFONE ESPANA S.A.U.</td>\n",
       "      <td>static-126-234-63-95.ipcom.comunitel.net</td>\n",
       "      <td>28001</td>\n",
       "      <td>NaN</td>\n",
       "      <td>NaN</td>\n",
       "    </tr>\n",
       "    <tr>\n",
       "      <th>2916</th>\n",
       "      <td>95.63.60.249</td>\n",
       "      <td>Madrid</td>\n",
       "      <td>Madrid</td>\n",
       "      <td>ES</td>\n",
       "      <td>40.4165,-3.7026</td>\n",
       "      <td>Europe/Madrid</td>\n",
       "      <td>Spain</td>\n",
       "      <td>40.4165</td>\n",
       "      <td>-3.7026</td>\n",
       "      <td>AS12430 VODAFONE ESPANA S.A.U.</td>\n",
       "      <td>static-249-60-63-95.ipcom.comunitel.net</td>\n",
       "      <td>28001</td>\n",
       "      <td>NaN</td>\n",
       "      <td>NaN</td>\n",
       "    </tr>\n",
       "    <tr>\n",
       "      <th>2917</th>\n",
       "      <td>96.242.31.129</td>\n",
       "      <td>Bayonne</td>\n",
       "      <td>New Jersey</td>\n",
       "      <td>US</td>\n",
       "      <td>40.6687,-74.1143</td>\n",
       "      <td>America/New_York</td>\n",
       "      <td>United States</td>\n",
       "      <td>40.6687</td>\n",
       "      <td>-74.1143</td>\n",
       "      <td>AS701 MCI Communications Services, Inc. d/b/a ...</td>\n",
       "      <td>pool-96-242-31-129.nwrknj.fios.verizon.net</td>\n",
       "      <td>07002</td>\n",
       "      <td>NaN</td>\n",
       "      <td>NaN</td>\n",
       "    </tr>\n",
       "    <tr>\n",
       "      <th>2918</th>\n",
       "      <td>98.137.206.41</td>\n",
       "      <td>New York City</td>\n",
       "      <td>New York</td>\n",
       "      <td>US</td>\n",
       "      <td>40.7313,-73.9892</td>\n",
       "      <td>America/New_York</td>\n",
       "      <td>United States</td>\n",
       "      <td>40.7313</td>\n",
       "      <td>-73.9892</td>\n",
       "      <td>NaN</td>\n",
       "      <td>unknown.yahoo.com</td>\n",
       "      <td>10003</td>\n",
       "      <td>NaN</td>\n",
       "      <td>NaN</td>\n",
       "    </tr>\n",
       "    <tr>\n",
       "      <th>2919</th>\n",
       "      <td>98.244.10.248</td>\n",
       "      <td>Chico</td>\n",
       "      <td>California</td>\n",
       "      <td>US</td>\n",
       "      <td>39.7285,-121.8375</td>\n",
       "      <td>America/Los_Angeles</td>\n",
       "      <td>United States</td>\n",
       "      <td>39.7285</td>\n",
       "      <td>-121.8375</td>\n",
       "      <td>AS7922 Comcast Cable Communications, LLC</td>\n",
       "      <td>c-98-244-10-248.hsd1.ca.comcast.net</td>\n",
       "      <td>95929</td>\n",
       "      <td>NaN</td>\n",
       "      <td>NaN</td>\n",
       "    </tr>\n",
       "  </tbody>\n",
       "</table>\n",
       "<p>2920 rows × 14 columns</p>\n",
       "</div>"
      ],
      "text/plain": [
       "                   ip           city      region country                loc  \\\n",
       "0      101.199.108.59        Beijing     Beijing      CN   39.9075,116.3972   \n",
       "1     101.226.167.226       Shanghai    Shanghai      CN   31.2222,121.4581   \n",
       "2       107.178.37.48       San Jose  California      US  37.3394,-121.8950   \n",
       "3      107.178.38.221       San Jose  California      US  37.3394,-121.8950   \n",
       "4       107.21.14.116        Ashburn    Virginia      US   39.0437,-77.4875   \n",
       "...               ...            ...         ...     ...                ...   \n",
       "2915    95.63.234.126         Madrid      Madrid      ES    40.4165,-3.7026   \n",
       "2916     95.63.60.249         Madrid      Madrid      ES    40.4165,-3.7026   \n",
       "2917    96.242.31.129        Bayonne  New Jersey      US   40.6687,-74.1143   \n",
       "2918    98.137.206.41  New York City    New York      US   40.7313,-73.9892   \n",
       "2919    98.244.10.248          Chico  California      US  39.7285,-121.8375   \n",
       "\n",
       "                 timezone   country_name latitude  longitude  \\\n",
       "0           Asia/Shanghai          China  39.9075   116.3972   \n",
       "1           Asia/Shanghai          China  31.2222   121.4581   \n",
       "2     America/Los_Angeles  United States  37.3394  -121.8950   \n",
       "3     America/Los_Angeles  United States  37.3394  -121.8950   \n",
       "4        America/New_York  United States  39.0437   -77.4875   \n",
       "...                   ...            ...      ...        ...   \n",
       "2915        Europe/Madrid          Spain  40.4165    -3.7026   \n",
       "2916        Europe/Madrid          Spain  40.4165    -3.7026   \n",
       "2917     America/New_York  United States  40.6687   -74.1143   \n",
       "2918     America/New_York  United States  40.7313   -73.9892   \n",
       "2919  America/Los_Angeles  United States  39.7285  -121.8375   \n",
       "\n",
       "                                                    org  \\\n",
       "0                                                   NaN   \n",
       "1                          AS4812 China Telecom (Group)   \n",
       "2                           AS174 Cogent Communications   \n",
       "3                           AS174 Cogent Communications   \n",
       "4                              AS14618 Amazon.com, Inc.   \n",
       "...                                                 ...   \n",
       "2915                     AS12430 VODAFONE ESPANA S.A.U.   \n",
       "2916                     AS12430 VODAFONE ESPANA S.A.U.   \n",
       "2917  AS701 MCI Communications Services, Inc. d/b/a ...   \n",
       "2918                                                NaN   \n",
       "2919           AS7922 Comcast Cable Communications, LLC   \n",
       "\n",
       "                                        hostname postal  bogon  anycast  \n",
       "0                                            NaN    NaN    NaN      NaN  \n",
       "1                                            NaN    NaN    NaN      NaN  \n",
       "2                 107-178-37-48.ip.cloudmosa.com  95103    NaN      NaN  \n",
       "3                107-178-38-221.ip.cloudmosa.com  95103    NaN      NaN  \n",
       "4      ec2-107-21-14-116.compute-1.amazonaws.com  20147    NaN      NaN  \n",
       "...                                          ...    ...    ...      ...  \n",
       "2915    static-126-234-63-95.ipcom.comunitel.net  28001    NaN      NaN  \n",
       "2916     static-249-60-63-95.ipcom.comunitel.net  28001    NaN      NaN  \n",
       "2917  pool-96-242-31-129.nwrknj.fios.verizon.net  07002    NaN      NaN  \n",
       "2918                           unknown.yahoo.com  10003    NaN      NaN  \n",
       "2919         c-98-244-10-248.hsd1.ca.comcast.net  95929    NaN      NaN  \n",
       "\n",
       "[2920 rows x 14 columns]"
      ]
     },
     "execution_count": 205,
     "metadata": {},
     "output_type": "execute_result"
    }
   ],
   "source": [
    "df_IP"
   ]
  },
  {
   "cell_type": "markdown",
   "id": "c2f6cd80",
   "metadata": {},
   "source": [
    "I create a copy of the main dataframe and merge with the grouped IP information from df_IP"
   ]
  },
  {
   "cell_type": "code",
   "execution_count": 233,
   "id": "61b73339",
   "metadata": {},
   "outputs": [],
   "source": [
    "df_copy = df.copy() "
   ]
  },
  {
   "cell_type": "code",
   "execution_count": 237,
   "id": "0187c3e4",
   "metadata": {},
   "outputs": [],
   "source": [
    "df_copy = pd.merge(df_copy, df_IP, left_on='IP', right_on='ip')"
   ]
  },
  {
   "cell_type": "markdown",
   "id": "9a2103e2",
   "metadata": {},
   "source": [
    "We check if the dataframes have merged correctly"
   ]
  },
  {
   "cell_type": "code",
   "execution_count": 238,
   "id": "ee92863c",
   "metadata": {},
   "outputs": [
    {
     "data": {
      "text/plain": [
       "Index(['host', 'IP', 'userID', 'Date', 'RequestMethod', 'path', 'RequestVers',\n",
       "       'status', 'lenght', 'referrer', 'UserAgent', 'Host', 'ip', 'city',\n",
       "       'region', 'country', 'loc', 'timezone', 'country_name', 'latitude',\n",
       "       'longitude', 'org', 'hostname', 'postal', 'bogon', 'anycast'],\n",
       "      dtype='object')"
      ]
     },
     "execution_count": 238,
     "metadata": {},
     "output_type": "execute_result"
    }
   ],
   "source": [
    "df_copy.columns "
   ]
  },
  {
   "cell_type": "code",
   "execution_count": 250,
   "id": "69528cfa",
   "metadata": {},
   "outputs": [
    {
     "data": {
      "text/html": [
       "<div>\n",
       "<style scoped>\n",
       "    .dataframe tbody tr th:only-of-type {\n",
       "        vertical-align: middle;\n",
       "    }\n",
       "\n",
       "    .dataframe tbody tr th {\n",
       "        vertical-align: top;\n",
       "    }\n",
       "\n",
       "    .dataframe thead th {\n",
       "        text-align: right;\n",
       "    }\n",
       "</style>\n",
       "<table border=\"1\" class=\"dataframe\">\n",
       "  <thead>\n",
       "    <tr style=\"text-align: right;\">\n",
       "      <th></th>\n",
       "      <th>host</th>\n",
       "      <th>IP</th>\n",
       "      <th>userID</th>\n",
       "      <th>Date</th>\n",
       "      <th>RequestMethod</th>\n",
       "      <th>path</th>\n",
       "      <th>RequestVers</th>\n",
       "      <th>status</th>\n",
       "      <th>lenght</th>\n",
       "      <th>referrer</th>\n",
       "      <th>...</th>\n",
       "      <th>loc</th>\n",
       "      <th>timezone</th>\n",
       "      <th>country_name</th>\n",
       "      <th>latitude</th>\n",
       "      <th>longitude</th>\n",
       "      <th>org</th>\n",
       "      <th>hostname</th>\n",
       "      <th>postal</th>\n",
       "      <th>bogon</th>\n",
       "      <th>anycast</th>\n",
       "    </tr>\n",
       "  </thead>\n",
       "  <tbody>\n",
       "    <tr>\n",
       "      <th>13892</th>\n",
       "      <td>www.akumenius.com</td>\n",
       "      <td>66.249.76.216</td>\n",
       "      <td>-</td>\n",
       "      <td>2014-02-23 03:10:31</td>\n",
       "      <td>GET</td>\n",
       "      <td>/hoteles-baratos/ofertas-hotel-Club-&amp;-Hotel-Le...</td>\n",
       "      <td>HTTP/1.1</td>\n",
       "      <td>404.0</td>\n",
       "      <td>3100</td>\n",
       "      <td>-</td>\n",
       "      <td>...</td>\n",
       "      <td>50.8505,4.3488</td>\n",
       "      <td>Europe/Brussels</td>\n",
       "      <td>Belgium</td>\n",
       "      <td>50.8505</td>\n",
       "      <td>4.3488</td>\n",
       "      <td>AS15169 Google LLC</td>\n",
       "      <td>crawl-66-249-76-216.googlebot.com</td>\n",
       "      <td>1000</td>\n",
       "      <td>NaN</td>\n",
       "      <td>NaN</td>\n",
       "    </tr>\n",
       "    <tr>\n",
       "      <th>13893</th>\n",
       "      <td>www.akumenius.com</td>\n",
       "      <td>66.249.76.216</td>\n",
       "      <td>-</td>\n",
       "      <td>2014-02-23 03:10:33</td>\n",
       "      <td>GET</td>\n",
       "      <td>/hoteles-baratos/ofertas-hotel-Metropolis-Hote...</td>\n",
       "      <td>HTTP/1.1</td>\n",
       "      <td>404.0</td>\n",
       "      <td>3100</td>\n",
       "      <td>-</td>\n",
       "      <td>...</td>\n",
       "      <td>50.8505,4.3488</td>\n",
       "      <td>Europe/Brussels</td>\n",
       "      <td>Belgium</td>\n",
       "      <td>50.8505</td>\n",
       "      <td>4.3488</td>\n",
       "      <td>AS15169 Google LLC</td>\n",
       "      <td>crawl-66-249-76-216.googlebot.com</td>\n",
       "      <td>1000</td>\n",
       "      <td>NaN</td>\n",
       "      <td>NaN</td>\n",
       "    </tr>\n",
       "    <tr>\n",
       "      <th>13894</th>\n",
       "      <td>www.akumenius.com</td>\n",
       "      <td>66.249.76.216</td>\n",
       "      <td>-</td>\n",
       "      <td>2014-02-23 03:10:35</td>\n",
       "      <td>GET</td>\n",
       "      <td>/hoteles-baratos/ofertas-hotel-Faena-Hotel-Bue...</td>\n",
       "      <td>HTTP/1.1</td>\n",
       "      <td>404.0</td>\n",
       "      <td>3100</td>\n",
       "      <td>-</td>\n",
       "      <td>...</td>\n",
       "      <td>50.8505,4.3488</td>\n",
       "      <td>Europe/Brussels</td>\n",
       "      <td>Belgium</td>\n",
       "      <td>50.8505</td>\n",
       "      <td>4.3488</td>\n",
       "      <td>AS15169 Google LLC</td>\n",
       "      <td>crawl-66-249-76-216.googlebot.com</td>\n",
       "      <td>1000</td>\n",
       "      <td>NaN</td>\n",
       "      <td>NaN</td>\n",
       "    </tr>\n",
       "    <tr>\n",
       "      <th>13895</th>\n",
       "      <td>www.akumenius.com</td>\n",
       "      <td>66.249.76.216</td>\n",
       "      <td>-</td>\n",
       "      <td>2014-02-23 03:10:38</td>\n",
       "      <td>GET</td>\n",
       "      <td>/hoteles-baratos/ofertas-hotel-Kensington-Town...</td>\n",
       "      <td>HTTP/1.1</td>\n",
       "      <td>404.0</td>\n",
       "      <td>3100</td>\n",
       "      <td>-</td>\n",
       "      <td>...</td>\n",
       "      <td>50.8505,4.3488</td>\n",
       "      <td>Europe/Brussels</td>\n",
       "      <td>Belgium</td>\n",
       "      <td>50.8505</td>\n",
       "      <td>4.3488</td>\n",
       "      <td>AS15169 Google LLC</td>\n",
       "      <td>crawl-66-249-76-216.googlebot.com</td>\n",
       "      <td>1000</td>\n",
       "      <td>NaN</td>\n",
       "      <td>NaN</td>\n",
       "    </tr>\n",
       "    <tr>\n",
       "      <th>13896</th>\n",
       "      <td>www.akumenius.com</td>\n",
       "      <td>66.249.76.216</td>\n",
       "      <td>-</td>\n",
       "      <td>2014-02-23 03:10:39</td>\n",
       "      <td>GET</td>\n",
       "      <td>/destinos-baratos/destinosEstrelles/hoteles-en...</td>\n",
       "      <td>HTTP/1.1</td>\n",
       "      <td>200.0</td>\n",
       "      <td>8811</td>\n",
       "      <td>-</td>\n",
       "      <td>...</td>\n",
       "      <td>50.8505,4.3488</td>\n",
       "      <td>Europe/Brussels</td>\n",
       "      <td>Belgium</td>\n",
       "      <td>50.8505</td>\n",
       "      <td>4.3488</td>\n",
       "      <td>AS15169 Google LLC</td>\n",
       "      <td>crawl-66-249-76-216.googlebot.com</td>\n",
       "      <td>1000</td>\n",
       "      <td>NaN</td>\n",
       "      <td>NaN</td>\n",
       "    </tr>\n",
       "    <tr>\n",
       "      <th>...</th>\n",
       "      <td>...</td>\n",
       "      <td>...</td>\n",
       "      <td>...</td>\n",
       "      <td>...</td>\n",
       "      <td>...</td>\n",
       "      <td>...</td>\n",
       "      <td>...</td>\n",
       "      <td>...</td>\n",
       "      <td>...</td>\n",
       "      <td>...</td>\n",
       "      <td>...</td>\n",
       "      <td>...</td>\n",
       "      <td>...</td>\n",
       "      <td>...</td>\n",
       "      <td>...</td>\n",
       "      <td>...</td>\n",
       "      <td>...</td>\n",
       "      <td>...</td>\n",
       "      <td>...</td>\n",
       "      <td>...</td>\n",
       "      <td>...</td>\n",
       "    </tr>\n",
       "    <tr>\n",
       "      <th>60269</th>\n",
       "      <td>www.akumenius.com</td>\n",
       "      <td>66.249.76.216</td>\n",
       "      <td>-</td>\n",
       "      <td>2014-03-02 03:00:15</td>\n",
       "      <td>GET</td>\n",
       "      <td>/destinosCaracteristicas/hoteles-baratos-en-CO...</td>\n",
       "      <td>HTTP/1.1</td>\n",
       "      <td>200.0</td>\n",
       "      <td>6401</td>\n",
       "      <td>-</td>\n",
       "      <td>...</td>\n",
       "      <td>50.8505,4.3488</td>\n",
       "      <td>Europe/Brussels</td>\n",
       "      <td>Belgium</td>\n",
       "      <td>50.8505</td>\n",
       "      <td>4.3488</td>\n",
       "      <td>AS15169 Google LLC</td>\n",
       "      <td>crawl-66-249-76-216.googlebot.com</td>\n",
       "      <td>1000</td>\n",
       "      <td>NaN</td>\n",
       "      <td>NaN</td>\n",
       "    </tr>\n",
       "    <tr>\n",
       "      <th>60270</th>\n",
       "      <td>www.akumenius.com</td>\n",
       "      <td>66.249.76.216</td>\n",
       "      <td>-</td>\n",
       "      <td>2014-03-02 03:00:48</td>\n",
       "      <td>GET</td>\n",
       "      <td>/destinos-baratos/hoteles-en-Ensenada_MEXICO</td>\n",
       "      <td>HTTP/1.1</td>\n",
       "      <td>200.0</td>\n",
       "      <td>15614</td>\n",
       "      <td>-</td>\n",
       "      <td>...</td>\n",
       "      <td>50.8505,4.3488</td>\n",
       "      <td>Europe/Brussels</td>\n",
       "      <td>Belgium</td>\n",
       "      <td>50.8505</td>\n",
       "      <td>4.3488</td>\n",
       "      <td>AS15169 Google LLC</td>\n",
       "      <td>crawl-66-249-76-216.googlebot.com</td>\n",
       "      <td>1000</td>\n",
       "      <td>NaN</td>\n",
       "      <td>NaN</td>\n",
       "    </tr>\n",
       "    <tr>\n",
       "      <th>60271</th>\n",
       "      <td>www.akumenius.com</td>\n",
       "      <td>66.249.76.216</td>\n",
       "      <td>-</td>\n",
       "      <td>2014-03-02 03:01:10</td>\n",
       "      <td>GET</td>\n",
       "      <td>/escapadas/ocio-andorra-327.html</td>\n",
       "      <td>HTTP/1.1</td>\n",
       "      <td>200.0</td>\n",
       "      <td>9258</td>\n",
       "      <td>-</td>\n",
       "      <td>...</td>\n",
       "      <td>50.8505,4.3488</td>\n",
       "      <td>Europe/Brussels</td>\n",
       "      <td>Belgium</td>\n",
       "      <td>50.8505</td>\n",
       "      <td>4.3488</td>\n",
       "      <td>AS15169 Google LLC</td>\n",
       "      <td>crawl-66-249-76-216.googlebot.com</td>\n",
       "      <td>1000</td>\n",
       "      <td>NaN</td>\n",
       "      <td>NaN</td>\n",
       "    </tr>\n",
       "    <tr>\n",
       "      <th>60272</th>\n",
       "      <td>www.akumenius.com</td>\n",
       "      <td>66.249.76.216</td>\n",
       "      <td>-</td>\n",
       "      <td>2014-03-02 03:05:09</td>\n",
       "      <td>GET</td>\n",
       "      <td>/destinos-caracteristicas/hoteles-baratos-en-B...</td>\n",
       "      <td>HTTP/1.1</td>\n",
       "      <td>200.0</td>\n",
       "      <td>9157</td>\n",
       "      <td>-</td>\n",
       "      <td>...</td>\n",
       "      <td>50.8505,4.3488</td>\n",
       "      <td>Europe/Brussels</td>\n",
       "      <td>Belgium</td>\n",
       "      <td>50.8505</td>\n",
       "      <td>4.3488</td>\n",
       "      <td>AS15169 Google LLC</td>\n",
       "      <td>crawl-66-249-76-216.googlebot.com</td>\n",
       "      <td>1000</td>\n",
       "      <td>NaN</td>\n",
       "      <td>NaN</td>\n",
       "    </tr>\n",
       "    <tr>\n",
       "      <th>60273</th>\n",
       "      <td>www.akumenius.com</td>\n",
       "      <td>66.249.76.216</td>\n",
       "      <td>-</td>\n",
       "      <td>2014-03-02 03:05:11</td>\n",
       "      <td>GET</td>\n",
       "      <td>/escapadas/romanticas-murcia-662/1.html</td>\n",
       "      <td>HTTP/1.1</td>\n",
       "      <td>200.0</td>\n",
       "      <td>11629</td>\n",
       "      <td>-</td>\n",
       "      <td>...</td>\n",
       "      <td>50.8505,4.3488</td>\n",
       "      <td>Europe/Brussels</td>\n",
       "      <td>Belgium</td>\n",
       "      <td>50.8505</td>\n",
       "      <td>4.3488</td>\n",
       "      <td>AS15169 Google LLC</td>\n",
       "      <td>crawl-66-249-76-216.googlebot.com</td>\n",
       "      <td>1000</td>\n",
       "      <td>NaN</td>\n",
       "      <td>NaN</td>\n",
       "    </tr>\n",
       "  </tbody>\n",
       "</table>\n",
       "<p>46382 rows × 26 columns</p>\n",
       "</div>"
      ],
      "text/plain": [
       "                    host             IP userID                Date  \\\n",
       "13892  www.akumenius.com  66.249.76.216      - 2014-02-23 03:10:31   \n",
       "13893  www.akumenius.com  66.249.76.216      - 2014-02-23 03:10:33   \n",
       "13894  www.akumenius.com  66.249.76.216      - 2014-02-23 03:10:35   \n",
       "13895  www.akumenius.com  66.249.76.216      - 2014-02-23 03:10:38   \n",
       "13896  www.akumenius.com  66.249.76.216      - 2014-02-23 03:10:39   \n",
       "...                  ...            ...    ...                 ...   \n",
       "60269  www.akumenius.com  66.249.76.216      - 2014-03-02 03:00:15   \n",
       "60270  www.akumenius.com  66.249.76.216      - 2014-03-02 03:00:48   \n",
       "60271  www.akumenius.com  66.249.76.216      - 2014-03-02 03:01:10   \n",
       "60272  www.akumenius.com  66.249.76.216      - 2014-03-02 03:05:09   \n",
       "60273  www.akumenius.com  66.249.76.216      - 2014-03-02 03:05:11   \n",
       "\n",
       "      RequestMethod                                               path  \\\n",
       "13892           GET  /hoteles-baratos/ofertas-hotel-Club-&-Hotel-Le...   \n",
       "13893           GET  /hoteles-baratos/ofertas-hotel-Metropolis-Hote...   \n",
       "13894           GET  /hoteles-baratos/ofertas-hotel-Faena-Hotel-Bue...   \n",
       "13895           GET  /hoteles-baratos/ofertas-hotel-Kensington-Town...   \n",
       "13896           GET  /destinos-baratos/destinosEstrelles/hoteles-en...   \n",
       "...             ...                                                ...   \n",
       "60269           GET  /destinosCaracteristicas/hoteles-baratos-en-CO...   \n",
       "60270           GET       /destinos-baratos/hoteles-en-Ensenada_MEXICO   \n",
       "60271           GET                   /escapadas/ocio-andorra-327.html   \n",
       "60272           GET  /destinos-caracteristicas/hoteles-baratos-en-B...   \n",
       "60273           GET            /escapadas/romanticas-murcia-662/1.html   \n",
       "\n",
       "      RequestVers  status lenght referrer  ...             loc  \\\n",
       "13892    HTTP/1.1   404.0   3100        -  ...  50.8505,4.3488   \n",
       "13893    HTTP/1.1   404.0   3100        -  ...  50.8505,4.3488   \n",
       "13894    HTTP/1.1   404.0   3100        -  ...  50.8505,4.3488   \n",
       "13895    HTTP/1.1   404.0   3100        -  ...  50.8505,4.3488   \n",
       "13896    HTTP/1.1   200.0   8811        -  ...  50.8505,4.3488   \n",
       "...           ...     ...    ...      ...  ...             ...   \n",
       "60269    HTTP/1.1   200.0   6401        -  ...  50.8505,4.3488   \n",
       "60270    HTTP/1.1   200.0  15614        -  ...  50.8505,4.3488   \n",
       "60271    HTTP/1.1   200.0   9258        -  ...  50.8505,4.3488   \n",
       "60272    HTTP/1.1   200.0   9157        -  ...  50.8505,4.3488   \n",
       "60273    HTTP/1.1   200.0  11629        -  ...  50.8505,4.3488   \n",
       "\n",
       "              timezone country_name latitude longitude                 org  \\\n",
       "13892  Europe/Brussels      Belgium  50.8505    4.3488  AS15169 Google LLC   \n",
       "13893  Europe/Brussels      Belgium  50.8505    4.3488  AS15169 Google LLC   \n",
       "13894  Europe/Brussels      Belgium  50.8505    4.3488  AS15169 Google LLC   \n",
       "13895  Europe/Brussels      Belgium  50.8505    4.3488  AS15169 Google LLC   \n",
       "13896  Europe/Brussels      Belgium  50.8505    4.3488  AS15169 Google LLC   \n",
       "...                ...          ...      ...       ...                 ...   \n",
       "60269  Europe/Brussels      Belgium  50.8505    4.3488  AS15169 Google LLC   \n",
       "60270  Europe/Brussels      Belgium  50.8505    4.3488  AS15169 Google LLC   \n",
       "60271  Europe/Brussels      Belgium  50.8505    4.3488  AS15169 Google LLC   \n",
       "60272  Europe/Brussels      Belgium  50.8505    4.3488  AS15169 Google LLC   \n",
       "60273  Europe/Brussels      Belgium  50.8505    4.3488  AS15169 Google LLC   \n",
       "\n",
       "                                hostname postal bogon anycast  \n",
       "13892  crawl-66-249-76-216.googlebot.com   1000   NaN     NaN  \n",
       "13893  crawl-66-249-76-216.googlebot.com   1000   NaN     NaN  \n",
       "13894  crawl-66-249-76-216.googlebot.com   1000   NaN     NaN  \n",
       "13895  crawl-66-249-76-216.googlebot.com   1000   NaN     NaN  \n",
       "13896  crawl-66-249-76-216.googlebot.com   1000   NaN     NaN  \n",
       "...                                  ...    ...   ...     ...  \n",
       "60269  crawl-66-249-76-216.googlebot.com   1000   NaN     NaN  \n",
       "60270  crawl-66-249-76-216.googlebot.com   1000   NaN     NaN  \n",
       "60271  crawl-66-249-76-216.googlebot.com   1000   NaN     NaN  \n",
       "60272  crawl-66-249-76-216.googlebot.com   1000   NaN     NaN  \n",
       "60273  crawl-66-249-76-216.googlebot.com   1000   NaN     NaN  \n",
       "\n",
       "[46382 rows x 26 columns]"
      ]
     },
     "execution_count": 250,
     "metadata": {},
     "output_type": "execute_result"
    }
   ],
   "source": [
    "df_copy[df_copy.IP == '66.249.76.216']"
   ]
  },
  {
   "cell_type": "markdown",
   "id": "0b4a505d",
   "metadata": {},
   "source": [
    "## - Exercici 3\n",
    "Mostra'm la teva creativitat, Sorprèn-me fes un pas més enllà amb l'anàlisi anterior."
   ]
  },
  {
   "cell_type": "markdown",
   "id": "09bd12d8",
   "metadata": {},
   "source": [
    "I analyse the new data provided by the IP"
   ]
  },
  {
   "cell_type": "code",
   "execution_count": 254,
   "id": "4f497454",
   "metadata": {},
   "outputs": [
    {
     "data": {
      "text/plain": [
       "count      2914\n",
       "unique       64\n",
       "top       Spain\n",
       "freq       1274\n",
       "Name: country_name, dtype: object"
      ]
     },
     "execution_count": 254,
     "metadata": {},
     "output_type": "execute_result"
    }
   ],
   "source": [
    "df_IP.country_name.describe()"
   ]
  },
  {
   "cell_type": "markdown",
   "id": "4a997188",
   "metadata": {},
   "source": [
    "There are IPs from 64 countries being Spain the one a higher frequency."
   ]
  },
  {
   "cell_type": "code",
   "execution_count": 279,
   "id": "a060a7f9",
   "metadata": {},
   "outputs": [
    {
     "data": {
      "text/plain": [
       "Spain            1274\n",
       "United States     672\n",
       "China             207\n",
       "Japan             113\n",
       "France            110\n",
       "Germany            74\n",
       "Hong Kong          62\n",
       "Brazil             37\n",
       "Mexico             33\n",
       "Belgium            32\n",
       "Name: country_name, dtype: int64"
      ]
     },
     "execution_count": 279,
     "metadata": {},
     "output_type": "execute_result"
    }
   ],
   "source": [
    "df_top10_country = df_IP.country_name.value_counts().head(10)\n",
    "df_top10_country"
   ]
  },
  {
   "cell_type": "code",
   "execution_count": 333,
   "id": "a0223cdf",
   "metadata": {},
   "outputs": [
    {
     "data": {
      "image/png": "[encoded data removed]",
      "text/plain": [
       "<Figure size 1152x504 with 1 Axes>"
      ]
     },
     "metadata": {},
     "output_type": "display_data"
    }
   ],
   "source": [
    "plt.figure(figsize=(16,7))\n",
    "sns.set_style(\"whitegrid\")\n",
    "\n",
    "df_IP['country_name'].value_counts()[:15].plot(kind='barh')\n",
    "plt.title('Top 15 unique users country that access the web', size=20)\n",
    "plt.xlabel('Unique Users', size=14);"
   ]
  },
  {
   "cell_type": "code",
   "execution_count": 334,
   "id": "26c0d0c6",
   "metadata": {},
   "outputs": [
    {
     "data": {
      "image/png": "[encoded data removed]",
      "text/plain": [
       "<Figure size 1152x504 with 1 Axes>"
      ]
     },
     "metadata": {},
     "output_type": "display_data"
    }
   ],
   "source": [
    "plt.figure(figsize=(16,7))\n",
    "df_copy['country_name'].value_counts()[:15].plot(kind='barh')\n",
    "plt.title('Top 15 country that access the web', size=20)\n",
    "plt.xlabel('Web visits', size=14);"
   ]
  },
  {
   "cell_type": "markdown",
   "id": "80b7d3e7",
   "metadata": {},
   "source": [
    "The above graphs shows that 1274 unique users from Spain access aprox 150000 times the web"
   ]
  },
  {
   "cell_type": "code",
   "execution_count": 298,
   "id": "90dfccb9",
   "metadata": {},
   "outputs": [
    {
     "data": {
      "text/plain": [
       "Belgium                               1477.062500\n",
       "Bonaire, Saint Eustatius and Saba      129.000000\n",
       "Netherlands                            119.851852\n",
       "Spain                                  116.117739\n",
       "Guatemala                               97.000000\n",
       "Italy                                   87.000000\n",
       "Sweden                                  81.454545\n",
       "Portugal                                70.333333\n",
       "Nicaragua                               65.500000\n",
       "Uruguay                                 60.500000\n",
       "Name: country_name, dtype: float64"
      ]
     },
     "execution_count": 298,
     "metadata": {},
     "output_type": "execute_result"
    }
   ],
   "source": [
    "visits_per_country = df_copy['country_name'].value_counts()/df_IP['country_name'].value_counts()\n",
    "visits_per_country.sort_values (ascending=False).head(10)"
   ]
  },
  {
   "cell_type": "markdown",
   "id": "56cd6d85",
   "metadata": {},
   "source": [
    "But the country that visit the web more times by IP in average is Belgium"
   ]
  },
  {
   "cell_type": "markdown",
   "id": "4e2c5963",
   "metadata": {},
   "source": [
    "We now analize the web visits by city"
   ]
  },
  {
   "cell_type": "code",
   "execution_count": 317,
   "id": "dc0dae5e",
   "metadata": {},
   "outputs": [
    {
     "data": {
      "text/plain": [
       "Madrid                  423\n",
       "Quincy                  122\n",
       "Barcelona               116\n",
       "Tokyo                   113\n",
       "Beijing                 110\n",
       "                       ... \n",
       "Florence                  1\n",
       "Foz                       1\n",
       "Villaviciosa de Odón      1\n",
       "Alameda                   1\n",
       "Chico                     1\n",
       "Name: city, Length: 560, dtype: int64"
      ]
     },
     "execution_count": 317,
     "metadata": {},
     "output_type": "execute_result"
    }
   ],
   "source": [
    "df_IP.city.value_counts()"
   ]
  },
  {
   "cell_type": "code",
   "execution_count": 318,
   "id": "6f03585c",
   "metadata": {},
   "outputs": [
    {
     "data": {
      "text/plain": [
       "Madrid           57028\n",
       "Brussels         47258\n",
       "Barcelona        10093\n",
       "Sevilla           9766\n",
       "Valencia          5680\n",
       "                 ...  \n",
       "Arequipa             1\n",
       "Porto                1\n",
       "Rankweil             1\n",
       "El Cajon             1\n",
       "Downers Grove        1\n",
       "Name: city, Length: 560, dtype: int64"
      ]
     },
     "execution_count": 318,
     "metadata": {},
     "output_type": "execute_result"
    }
   ],
   "source": [
    "df_copy.city.value_counts()"
   ]
  },
  {
   "cell_type": "code",
   "execution_count": 322,
   "id": "4d1fc78f",
   "metadata": {},
   "outputs": [
    {
     "data": {
      "text/plain": [
       "Brussels         1687.785714\n",
       "Écija             531.000000\n",
       "Phoenix           523.000000\n",
       "Abarán            511.000000\n",
       "New York City     498.166667\n",
       "                    ...     \n",
       "Arundel             1.000000\n",
       "Mazatlán            1.000000\n",
       "Melbourne           1.000000\n",
       "Melilla             1.000000\n",
       "San Francisco       1.000000\n",
       "Name: city, Length: 560, dtype: float64"
      ]
     },
     "execution_count": 322,
     "metadata": {},
     "output_type": "execute_result"
    }
   ],
   "source": [
    "visit_per_city = df_copy.city.value_counts()/df_IP.city.value_counts()\n",
    "visit_per_city.sort_values(ascending=False)"
   ]
  },
  {
   "cell_type": "markdown",
   "id": "07af22e1",
   "metadata": {},
   "source": [
    "Madrid is the city with more unique users visiting the web\n",
    "Also Madrid is the city that visit the web more often\n",
    "Brussels is the city with more visits in average to the web"
   ]
  },
  {
   "cell_type": "code",
   "execution_count": 339,
   "id": "acc11182",
   "metadata": {},
   "outputs": [
    {
     "data": {
      "image/png": "[encoded data removed]",
      "text/plain": [
       "<Figure size 1080x360 with 2 Axes>"
      ]
     },
     "metadata": {},
     "output_type": "display_data"
    }
   ],
   "source": [
    "fig, (ax1, ax2) = plt.subplots(1,2, figsize=(15,5))\n",
    "fig.suptitle('Web visits by city', size=20)\n",
    "df_IP['city'].value_counts()[:15].plot(kind='barh', ax=ax1)\n",
    "df_copy['city'].value_counts()[:15].plot(kind='barh', ax=ax2)\n",
    "ax1.set_xlabel('Unique Users', size=11);\n",
    "ax2.set_xlabel('Web visits', size=11);"
   ]
  },
  {
   "cell_type": "code",
   "execution_count": null,
   "id": "781450bb",
   "metadata": {},
   "outputs": [],
   "source": []
  }
 ],
 "metadata": {
  "kernelspec": {
   "display_name": "Python 3 (ipykernel)",
   "language": "python",
   "name": "python3"
  },
  "language_info": {
   "codemirror_mode": {
    "name": "ipython",
    "version": 3
   },
   "file_extension": ".py",
   "mimetype": "text/x-python",
   "name": "python",
   "nbconvert_exporter": "python",
   "pygments_lexer": "ipython3",
   "version": "3.9.7"
  }
 },
 "nbformat": 4,
 "nbformat_minor": 5
}
